{
  "nbformat": 4,
  "nbformat_minor": 0,
  "metadata": {
    "colab": {
      "name": "Information Extraction using NLP.ipynb",
      "provenance": [],
      "collapsed_sections": []
    },
    "kernelspec": {
      "display_name": "Python 3",
      "language": "python",
      "name": "python3"
    }
  },
  "cells": [
    {
      "cell_type": "markdown",
      "metadata": {
        "id": "sC-LZ20S_WUr"
      },
      "source": [
        "# Information Extraction using Natural Language Processing"
      ]
    },
    {
      "cell_type": "code",
      "metadata": {
        "id": "9xqCFJBv_WUt",
        "colab": {
          "base_uri": "https://localhost:8080/"
        },
        "outputId": "2f07ca5f-5077-4d7e-95a4-d13bb2183a87"
      },
      "source": [
        "import nltk\n",
        "import re\n",
        "\n",
        "nltk.download('all')"
      ],
      "execution_count": null,
      "outputs": [
        {
          "output_type": "stream",
          "name": "stdout",
          "text": [
            "[nltk_data] Downloading collection 'all'\n",
            "[nltk_data]    | \n",
            "[nltk_data]    | Downloading package abc to /root/nltk_data...\n",
            "[nltk_data]    |   Unzipping corpora/abc.zip.\n",
            "[nltk_data]    | Downloading package alpino to /root/nltk_data...\n",
            "[nltk_data]    |   Unzipping corpora/alpino.zip.\n",
            "[nltk_data]    | Downloading package biocreative_ppi to\n",
            "[nltk_data]    |     /root/nltk_data...\n",
            "[nltk_data]    |   Unzipping corpora/biocreative_ppi.zip.\n",
            "[nltk_data]    | Downloading package brown to /root/nltk_data...\n",
            "[nltk_data]    |   Unzipping corpora/brown.zip.\n",
            "[nltk_data]    | Downloading package brown_tei to /root/nltk_data...\n",
            "[nltk_data]    |   Unzipping corpora/brown_tei.zip.\n",
            "[nltk_data]    | Downloading package cess_cat to /root/nltk_data...\n",
            "[nltk_data]    |   Unzipping corpora/cess_cat.zip.\n",
            "[nltk_data]    | Downloading package cess_esp to /root/nltk_data...\n",
            "[nltk_data]    |   Unzipping corpora/cess_esp.zip.\n",
            "[nltk_data]    | Downloading package chat80 to /root/nltk_data...\n",
            "[nltk_data]    |   Unzipping corpora/chat80.zip.\n",
            "[nltk_data]    | Downloading package city_database to\n",
            "[nltk_data]    |     /root/nltk_data...\n",
            "[nltk_data]    |   Unzipping corpora/city_database.zip.\n",
            "[nltk_data]    | Downloading package cmudict to /root/nltk_data...\n",
            "[nltk_data]    |   Unzipping corpora/cmudict.zip.\n",
            "[nltk_data]    | Downloading package comparative_sentences to\n",
            "[nltk_data]    |     /root/nltk_data...\n",
            "[nltk_data]    |   Unzipping corpora/comparative_sentences.zip.\n",
            "[nltk_data]    | Downloading package comtrans to /root/nltk_data...\n",
            "[nltk_data]    | Downloading package conll2000 to /root/nltk_data...\n",
            "[nltk_data]    |   Unzipping corpora/conll2000.zip.\n",
            "[nltk_data]    | Downloading package conll2002 to /root/nltk_data...\n",
            "[nltk_data]    |   Unzipping corpora/conll2002.zip.\n",
            "[nltk_data]    | Downloading package conll2007 to /root/nltk_data...\n",
            "[nltk_data]    | Downloading package crubadan to /root/nltk_data...\n",
            "[nltk_data]    |   Unzipping corpora/crubadan.zip.\n",
            "[nltk_data]    | Downloading package dependency_treebank to\n",
            "[nltk_data]    |     /root/nltk_data...\n",
            "[nltk_data]    |   Unzipping corpora/dependency_treebank.zip.\n",
            "[nltk_data]    | Downloading package dolch to /root/nltk_data...\n",
            "[nltk_data]    |   Unzipping corpora/dolch.zip.\n",
            "[nltk_data]    | Downloading package europarl_raw to\n",
            "[nltk_data]    |     /root/nltk_data...\n",
            "[nltk_data]    |   Unzipping corpora/europarl_raw.zip.\n",
            "[nltk_data]    | Downloading package floresta to /root/nltk_data...\n",
            "[nltk_data]    |   Unzipping corpora/floresta.zip.\n",
            "[nltk_data]    | Downloading package framenet_v15 to\n",
            "[nltk_data]    |     /root/nltk_data...\n",
            "[nltk_data]    |   Unzipping corpora/framenet_v15.zip.\n",
            "[nltk_data]    | Downloading package framenet_v17 to\n",
            "[nltk_data]    |     /root/nltk_data...\n",
            "[nltk_data]    |   Unzipping corpora/framenet_v17.zip.\n",
            "[nltk_data]    | Downloading package gazetteers to /root/nltk_data...\n",
            "[nltk_data]    |   Unzipping corpora/gazetteers.zip.\n",
            "[nltk_data]    | Downloading package genesis to /root/nltk_data...\n",
            "[nltk_data]    |   Unzipping corpora/genesis.zip.\n",
            "[nltk_data]    | Downloading package gutenberg to /root/nltk_data...\n",
            "[nltk_data]    |   Unzipping corpora/gutenberg.zip.\n",
            "[nltk_data]    | Downloading package ieer to /root/nltk_data...\n",
            "[nltk_data]    |   Unzipping corpora/ieer.zip.\n",
            "[nltk_data]    | Downloading package inaugural to /root/nltk_data...\n",
            "[nltk_data]    |   Unzipping corpora/inaugural.zip.\n",
            "[nltk_data]    | Downloading package indian to /root/nltk_data...\n",
            "[nltk_data]    |   Unzipping corpora/indian.zip.\n",
            "[nltk_data]    | Downloading package jeita to /root/nltk_data...\n",
            "[nltk_data]    | Downloading package kimmo to /root/nltk_data...\n",
            "[nltk_data]    |   Unzipping corpora/kimmo.zip.\n",
            "[nltk_data]    | Downloading package knbc to /root/nltk_data...\n",
            "[nltk_data]    | Downloading package lin_thesaurus to\n",
            "[nltk_data]    |     /root/nltk_data...\n",
            "[nltk_data]    |   Unzipping corpora/lin_thesaurus.zip.\n",
            "[nltk_data]    | Downloading package mac_morpho to /root/nltk_data...\n",
            "[nltk_data]    |   Unzipping corpora/mac_morpho.zip.\n",
            "[nltk_data]    | Downloading package machado to /root/nltk_data...\n",
            "[nltk_data]    | Downloading package masc_tagged to /root/nltk_data...\n",
            "[nltk_data]    | Downloading package moses_sample to\n",
            "[nltk_data]    |     /root/nltk_data...\n",
            "[nltk_data]    |   Unzipping models/moses_sample.zip.\n",
            "[nltk_data]    | Downloading package movie_reviews to\n",
            "[nltk_data]    |     /root/nltk_data...\n",
            "[nltk_data]    |   Unzipping corpora/movie_reviews.zip.\n",
            "[nltk_data]    | Downloading package names to /root/nltk_data...\n",
            "[nltk_data]    |   Unzipping corpora/names.zip.\n",
            "[nltk_data]    | Downloading package nombank.1.0 to /root/nltk_data...\n",
            "[nltk_data]    | Downloading package nps_chat to /root/nltk_data...\n",
            "[nltk_data]    |   Unzipping corpora/nps_chat.zip.\n",
            "[nltk_data]    | Downloading package omw to /root/nltk_data...\n",
            "[nltk_data]    |   Unzipping corpora/omw.zip.\n",
            "[nltk_data]    | Downloading package opinion_lexicon to\n",
            "[nltk_data]    |     /root/nltk_data...\n",
            "[nltk_data]    |   Unzipping corpora/opinion_lexicon.zip.\n",
            "[nltk_data]    | Downloading package paradigms to /root/nltk_data...\n",
            "[nltk_data]    |   Unzipping corpora/paradigms.zip.\n",
            "[nltk_data]    | Downloading package pil to /root/nltk_data...\n",
            "[nltk_data]    |   Unzipping corpora/pil.zip.\n",
            "[nltk_data]    | Downloading package pl196x to /root/nltk_data...\n",
            "[nltk_data]    |   Unzipping corpora/pl196x.zip.\n",
            "[nltk_data]    | Downloading package ppattach to /root/nltk_data...\n",
            "[nltk_data]    |   Unzipping corpora/ppattach.zip.\n",
            "[nltk_data]    | Downloading package problem_reports to\n",
            "[nltk_data]    |     /root/nltk_data...\n",
            "[nltk_data]    |   Unzipping corpora/problem_reports.zip.\n",
            "[nltk_data]    | Downloading package propbank to /root/nltk_data...\n",
            "[nltk_data]    | Downloading package ptb to /root/nltk_data...\n",
            "[nltk_data]    |   Unzipping corpora/ptb.zip.\n",
            "[nltk_data]    | Downloading package product_reviews_1 to\n",
            "[nltk_data]    |     /root/nltk_data...\n",
            "[nltk_data]    |   Unzipping corpora/product_reviews_1.zip.\n",
            "[nltk_data]    | Downloading package product_reviews_2 to\n",
            "[nltk_data]    |     /root/nltk_data...\n",
            "[nltk_data]    |   Unzipping corpora/product_reviews_2.zip.\n",
            "[nltk_data]    | Downloading package pros_cons to /root/nltk_data...\n",
            "[nltk_data]    |   Unzipping corpora/pros_cons.zip.\n",
            "[nltk_data]    | Downloading package qc to /root/nltk_data...\n",
            "[nltk_data]    |   Unzipping corpora/qc.zip.\n",
            "[nltk_data]    | Downloading package reuters to /root/nltk_data...\n",
            "[nltk_data]    | Downloading package rte to /root/nltk_data...\n",
            "[nltk_data]    |   Unzipping corpora/rte.zip.\n",
            "[nltk_data]    | Downloading package semcor to /root/nltk_data...\n",
            "[nltk_data]    | Downloading package senseval to /root/nltk_data...\n",
            "[nltk_data]    |   Unzipping corpora/senseval.zip.\n",
            "[nltk_data]    | Downloading package sentiwordnet to\n",
            "[nltk_data]    |     /root/nltk_data...\n",
            "[nltk_data]    |   Unzipping corpora/sentiwordnet.zip.\n",
            "[nltk_data]    | Downloading package sentence_polarity to\n",
            "[nltk_data]    |     /root/nltk_data...\n",
            "[nltk_data]    |   Unzipping corpora/sentence_polarity.zip.\n",
            "[nltk_data]    | Downloading package shakespeare to /root/nltk_data...\n",
            "[nltk_data]    |   Unzipping corpora/shakespeare.zip.\n",
            "[nltk_data]    | Downloading package sinica_treebank to\n",
            "[nltk_data]    |     /root/nltk_data...\n",
            "[nltk_data]    |   Unzipping corpora/sinica_treebank.zip.\n",
            "[nltk_data]    | Downloading package smultron to /root/nltk_data...\n",
            "[nltk_data]    |   Unzipping corpora/smultron.zip.\n",
            "[nltk_data]    | Downloading package state_union to /root/nltk_data...\n",
            "[nltk_data]    |   Unzipping corpora/state_union.zip.\n",
            "[nltk_data]    | Downloading package stopwords to /root/nltk_data...\n",
            "[nltk_data]    |   Unzipping corpora/stopwords.zip.\n",
            "[nltk_data]    | Downloading package subjectivity to\n",
            "[nltk_data]    |     /root/nltk_data...\n",
            "[nltk_data]    |   Unzipping corpora/subjectivity.zip.\n",
            "[nltk_data]    | Downloading package swadesh to /root/nltk_data...\n",
            "[nltk_data]    |   Unzipping corpora/swadesh.zip.\n",
            "[nltk_data]    | Downloading package switchboard to /root/nltk_data...\n",
            "[nltk_data]    |   Unzipping corpora/switchboard.zip.\n",
            "[nltk_data]    | Downloading package timit to /root/nltk_data...\n",
            "[nltk_data]    |   Unzipping corpora/timit.zip.\n",
            "[nltk_data]    | Downloading package toolbox to /root/nltk_data...\n",
            "[nltk_data]    |   Unzipping corpora/toolbox.zip.\n",
            "[nltk_data]    | Downloading package treebank to /root/nltk_data...\n",
            "[nltk_data]    |   Unzipping corpora/treebank.zip.\n",
            "[nltk_data]    | Downloading package twitter_samples to\n",
            "[nltk_data]    |     /root/nltk_data...\n",
            "[nltk_data]    |   Unzipping corpora/twitter_samples.zip.\n",
            "[nltk_data]    | Downloading package udhr to /root/nltk_data...\n",
            "[nltk_data]    |   Unzipping corpora/udhr.zip.\n",
            "[nltk_data]    | Downloading package udhr2 to /root/nltk_data...\n",
            "[nltk_data]    |   Unzipping corpora/udhr2.zip.\n",
            "[nltk_data]    | Downloading package unicode_samples to\n",
            "[nltk_data]    |     /root/nltk_data...\n",
            "[nltk_data]    |   Unzipping corpora/unicode_samples.zip.\n",
            "[nltk_data]    | Downloading package universal_treebanks_v20 to\n",
            "[nltk_data]    |     /root/nltk_data...\n",
            "[nltk_data]    | Downloading package verbnet to /root/nltk_data...\n",
            "[nltk_data]    |   Unzipping corpora/verbnet.zip.\n",
            "[nltk_data]    | Downloading package verbnet3 to /root/nltk_data...\n",
            "[nltk_data]    |   Unzipping corpora/verbnet3.zip.\n",
            "[nltk_data]    | Downloading package webtext to /root/nltk_data...\n",
            "[nltk_data]    |   Unzipping corpora/webtext.zip.\n",
            "[nltk_data]    | Downloading package wordnet to /root/nltk_data...\n",
            "[nltk_data]    |   Unzipping corpora/wordnet.zip.\n",
            "[nltk_data]    | Downloading package wordnet_ic to /root/nltk_data...\n",
            "[nltk_data]    |   Unzipping corpora/wordnet_ic.zip.\n",
            "[nltk_data]    | Downloading package words to /root/nltk_data...\n",
            "[nltk_data]    |   Unzipping corpora/words.zip.\n",
            "[nltk_data]    | Downloading package ycoe to /root/nltk_data...\n",
            "[nltk_data]    |   Unzipping corpora/ycoe.zip.\n",
            "[nltk_data]    | Downloading package rslp to /root/nltk_data...\n",
            "[nltk_data]    |   Unzipping stemmers/rslp.zip.\n",
            "[nltk_data]    | Downloading package maxent_treebank_pos_tagger to\n",
            "[nltk_data]    |     /root/nltk_data...\n",
            "[nltk_data]    |   Unzipping taggers/maxent_treebank_pos_tagger.zip.\n",
            "[nltk_data]    | Downloading package universal_tagset to\n",
            "[nltk_data]    |     /root/nltk_data...\n",
            "[nltk_data]    |   Unzipping taggers/universal_tagset.zip.\n",
            "[nltk_data]    | Downloading package maxent_ne_chunker to\n",
            "[nltk_data]    |     /root/nltk_data...\n",
            "[nltk_data]    |   Unzipping chunkers/maxent_ne_chunker.zip.\n",
            "[nltk_data]    | Downloading package punkt to /root/nltk_data...\n",
            "[nltk_data]    |   Unzipping tokenizers/punkt.zip.\n",
            "[nltk_data]    | Downloading package book_grammars to\n",
            "[nltk_data]    |     /root/nltk_data...\n",
            "[nltk_data]    |   Unzipping grammars/book_grammars.zip.\n",
            "[nltk_data]    | Downloading package sample_grammars to\n",
            "[nltk_data]    |     /root/nltk_data...\n",
            "[nltk_data]    |   Unzipping grammars/sample_grammars.zip.\n",
            "[nltk_data]    | Downloading package spanish_grammars to\n",
            "[nltk_data]    |     /root/nltk_data...\n",
            "[nltk_data]    |   Unzipping grammars/spanish_grammars.zip.\n",
            "[nltk_data]    | Downloading package basque_grammars to\n",
            "[nltk_data]    |     /root/nltk_data...\n",
            "[nltk_data]    |   Unzipping grammars/basque_grammars.zip.\n",
            "[nltk_data]    | Downloading package large_grammars to\n",
            "[nltk_data]    |     /root/nltk_data...\n",
            "[nltk_data]    |   Unzipping grammars/large_grammars.zip.\n",
            "[nltk_data]    | Downloading package tagsets to /root/nltk_data...\n",
            "[nltk_data]    |   Unzipping help/tagsets.zip.\n",
            "[nltk_data]    | Downloading package snowball_data to\n",
            "[nltk_data]    |     /root/nltk_data...\n",
            "[nltk_data]    | Downloading package bllip_wsj_no_aux to\n",
            "[nltk_data]    |     /root/nltk_data...\n",
            "[nltk_data]    |   Unzipping models/bllip_wsj_no_aux.zip.\n",
            "[nltk_data]    | Downloading package word2vec_sample to\n",
            "[nltk_data]    |     /root/nltk_data...\n",
            "[nltk_data]    |   Unzipping models/word2vec_sample.zip.\n",
            "[nltk_data]    | Downloading package panlex_swadesh to\n",
            "[nltk_data]    |     /root/nltk_data...\n",
            "[nltk_data]    | Downloading package mte_teip5 to /root/nltk_data...\n",
            "[nltk_data]    |   Unzipping corpora/mte_teip5.zip.\n",
            "[nltk_data]    | Downloading package averaged_perceptron_tagger to\n",
            "[nltk_data]    |     /root/nltk_data...\n",
            "[nltk_data]    |   Unzipping taggers/averaged_perceptron_tagger.zip.\n",
            "[nltk_data]    | Downloading package averaged_perceptron_tagger_ru to\n",
            "[nltk_data]    |     /root/nltk_data...\n",
            "[nltk_data]    |   Unzipping\n",
            "[nltk_data]    |       taggers/averaged_perceptron_tagger_ru.zip.\n",
            "[nltk_data]    | Downloading package perluniprops to\n",
            "[nltk_data]    |     /root/nltk_data...\n",
            "[nltk_data]    |   Unzipping misc/perluniprops.zip.\n",
            "[nltk_data]    | Downloading package nonbreaking_prefixes to\n",
            "[nltk_data]    |     /root/nltk_data...\n",
            "[nltk_data]    |   Unzipping corpora/nonbreaking_prefixes.zip.\n",
            "[nltk_data]    | Downloading package vader_lexicon to\n",
            "[nltk_data]    |     /root/nltk_data...\n",
            "[nltk_data]    | Downloading package porter_test to /root/nltk_data...\n",
            "[nltk_data]    |   Unzipping stemmers/porter_test.zip.\n",
            "[nltk_data]    | Downloading package wmt15_eval to /root/nltk_data...\n",
            "[nltk_data]    |   Unzipping models/wmt15_eval.zip.\n",
            "[nltk_data]    | Downloading package mwa_ppdb to /root/nltk_data...\n",
            "[nltk_data]    |   Unzipping misc/mwa_ppdb.zip.\n",
            "[nltk_data]    | \n",
            "[nltk_data]  Done downloading collection all\n"
          ]
        },
        {
          "output_type": "execute_result",
          "data": {
            "text/plain": [
              "True"
            ]
          },
          "metadata": {},
          "execution_count": 1
        }
      ]
    },
    {
      "cell_type": "markdown",
      "metadata": {
        "id": "iq8sr9x17KhU"
      },
      "source": [
        "\n",
        "\n",
        "Using the IOB tagging scheme annotating all of the named entities (PERson, LOCation, ORGanisation, TIME) in the following sentence:\n",
        "\n",
        "*Wayne Rooney is a professional footballer from England who last played for Major League Soccer club D.C. United and will join Derby County in January 2020.*"
      ]
    },
    {
      "cell_type": "markdown",
      "metadata": {
        "id": "htlSW1ad81D-"
      },
      "source": [
        "Edit this cell and write your annotation below the line. (Note that you don't have to write code for this task, you have to annotate it manually)\n",
        "\n",
        "---\n"
      ]
    },
    {
      "cell_type": "markdown",
      "metadata": {
        "id": "JOgSSfJM8rk6"
      },
      "source": [
        "\n",
        "\n",
        "B-PER: Wayne I-PER: Rooney O: is O: a O: professional O: footballer O: from B-LOC: England O: who O: last O: played O: for B-ORG: Major I-ORG: League I-ORG: Soccer I-ORG: club I-ORG: D.C. I-ORG: United O: and O: will O: join B-ORG: Derby I-ORG: County O: in B-TIME: January I-TIME: 2020 O: .\n"
      ]
    },
    {
      "cell_type": "markdown",
      "metadata": {
        "id": "LZNmDWxj-V-J"
      },
      "source": [
        "\n",
        "---\n",
        "\n",
        "### For subsequent tasks in this assignment, you will work with the documents in `football_players.txt` to perform various information extraction tasks."
      ]
    },
    {
      "cell_type": "code",
      "metadata": {
        "id": "V9YE4n6u7olU",
        "colab": {
          "base_uri": "https://localhost:8080/"
        },
        "outputId": "1e121ed6-5053-4af7-ca45-2d8a27341510"
      },
      "source": [
        "# Download the text file (uncomment the line below in this cell, if not already downloaded from Blackboard)\n",
        "!curl \"https://ideone.com/plain/OvwDXZ\" > football_players.txt\n"
      ],
      "execution_count": null,
      "outputs": [
        {
          "output_type": "stream",
          "name": "stdout",
          "text": [
            "  % Total    % Received % Xferd  Average Speed   Time    Time     Time  Current\n",
            "                                 Dload  Upload   Total   Spent    Left  Speed\n",
            "100 24172  100 24172    0     0   6511      0  0:00:03  0:00:03 --:--:--  6511\n"
          ]
        }
      ]
    },
    {
      "cell_type": "markdown",
      "metadata": {
        "id": "DpSaij2b73Vj"
      },
      "source": [
        " Read all the documents from `football_players.txt` into a list called `docs`."
      ]
    },
    {
      "cell_type": "code",
      "metadata": {
        "id": "qteh89cs7q4x"
      },
      "source": [
        "docs = []\n",
        "# your code goes here\n",
        "with open('football_players.txt', 'r') as f:\n",
        "  docs = f.readlines()"
      ],
      "execution_count": null,
      "outputs": []
    },
    {
      "cell_type": "markdown",
      "metadata": {
        "id": "DCEJrJ-p_WU1"
      },
      "source": [
        "\n",
        "Writing a function that takes a document and returns a list of sentences with part-of-speech tags.\n",
        "\n",
        "Please keep in mind that the expected output is a list within a list as shown below.\n"
      ]
    },
    {
      "cell_type": "markdown",
      "metadata": {
        "id": "NO7Fyfq7DYxW"
      },
      "source": [
        "For this task you need to perform three steps:\n",
        "1. Sentence Segmentation\n",
        "1. Word Tokenization\n",
        "1. Part-of-Speech Tagging"
      ]
    },
    {
      "cell_type": "code",
      "metadata": {
        "id": "U3MCJIcR_WU2"
      },
      "source": [
        "def ie_preprocess(document):\n",
        "  # your code goes here\n",
        "\n",
        "# Step 1: Sentence segmentation.\n",
        "  sentences = nltk.sent_tokenize(document)\n",
        "\n",
        "# Step 2: Tokenize sentences into words.\n",
        "  tokenized_sentences = [nltk.word_tokenize(sent) for sent in sentences]\n",
        "  \n",
        "# Step 3: POS tagging.\n",
        "  return [nltk.pos_tag(sent) for sent in tokenized_sentences]\n",
        "  "
      ],
      "execution_count": null,
      "outputs": []
    },
    {
      "cell_type": "markdown",
      "metadata": {
        "id": "-E04CUNb_WU6"
      },
      "source": [
        "Run the cell below to verify your result for the second sentence in the first document.\n",
        "Expected output: \n",
        "`[('He', 'PRP'), ('is', 'VBZ'), ('a', 'DT'), ('forward', 'NN'), ('and', 'CC'), ('serves', 'NNS'), ('as', 'IN'), ('captain', 'NN'), ('for', 'IN'), ('Portugal', 'NNP'), ('.', '.')]`"
      ]
    },
    {
      "cell_type": "code",
      "metadata": {
        "colab": {
          "base_uri": "https://localhost:8080/"
        },
        "id": "KLsDzmtVpZbQ",
        "outputId": "6571bd03-71a5-474d-919f-f276a39072e2"
      },
      "source": [
        "first_doc = docs[0]\n",
        "tagged_sentences = ie_preprocess(first_doc)\n",
        "tagged_sentences[1]"
      ],
      "execution_count": null,
      "outputs": [
        {
          "output_type": "execute_result",
          "data": {
            "text/plain": [
              "[('He', 'PRP'),\n",
              " ('is', 'VBZ'),\n",
              " ('a', 'DT'),\n",
              " ('forward', 'NN'),\n",
              " ('and', 'CC'),\n",
              " ('serves', 'NNS'),\n",
              " ('as', 'IN'),\n",
              " ('captain', 'NN'),\n",
              " ('for', 'IN'),\n",
              " ('Portugal', 'NNP'),\n",
              " ('.', '.')]"
            ]
          },
          "metadata": {},
          "execution_count": 5
        }
      ]
    },
    {
      "cell_type": "markdown",
      "metadata": {
        "id": "tYTwrZId_WU_"
      },
      "source": [
        "\n",
        "A function that takes a list of tokens with POS tags for a sentence and returns a list of named entities (NE). \n",
        "\n",
        "Use `binary = True` while calling NE chunk function"
      ]
    },
    {
      "cell_type": "code",
      "metadata": {
        "id": "5fC0iqJJ_WU_"
      },
      "source": [
        "def find_named_entities(sent):\n",
        "  named_entities = []\n",
        "  # your code goes here\n",
        "  tree = nltk.ne_chunk(sent, binary=True)\n",
        "\n",
        "  for subtree in tree.subtrees():\n",
        "    if subtree.label() == 'NE':\n",
        "      entity = \"\"\n",
        "      for leaf in subtree.leaves():\n",
        "        entity = entity + leaf[0] + \" \"\n",
        "      named_entities.append(entity.strip())\n",
        "\n",
        "  return named_entities"
      ],
      "execution_count": null,
      "outputs": []
    },
    {
      "cell_type": "markdown",
      "metadata": {
        "id": "Td5yJ8cgFScx"
      },
      "source": [
        "Run the cell below to verify your result for the first sentence in the first document.\n",
        "Expected output: `['Cristiano Ronaldo', 'Santos Aveiro', 'ComM', 'GOIH', 'Portuguese', 'Portuguese', 'Spanish', 'Real Madrid', 'Portugal']`"
      ]
    },
    {
      "cell_type": "code",
      "metadata": {
        "id": "FijjdAPWFsp2",
        "colab": {
          "base_uri": "https://localhost:8080/"
        },
        "outputId": "b7d7ce5a-5abd-4733-8fa1-a9e278493318"
      },
      "source": [
        "tagged_sentences = ie_preprocess(docs[0])\n",
        "find_named_entities(tagged_sentences[0])"
      ],
      "execution_count": null,
      "outputs": [
        {
          "output_type": "execute_result",
          "data": {
            "text/plain": [
              "['Cristiano Ronaldo',\n",
              " 'Santos Aveiro',\n",
              " 'ComM',\n",
              " 'GOIH',\n",
              " 'Portuguese',\n",
              " 'Portuguese',\n",
              " 'Spanish',\n",
              " 'Real Madrid',\n",
              " 'Portugal']"
            ]
          },
          "metadata": {},
          "execution_count": 7
        }
      ]
    },
    {
      "cell_type": "markdown",
      "metadata": {
        "id": "XHMp7xtK_WVE"
      },
      "source": [
        "\n",
        "Implementing the `find_all_named_entities` function below to find **all** NEs in a given document.\n",
        "\n",
        "Use `find_named_entities` implemented above for this task."
      ]
    },
    {
      "cell_type": "code",
      "metadata": {
        "id": "TwFlzQx4_WVF"
      },
      "source": [
        "def find_all_named_entities(doc):\n",
        "  named_entities2 = []\n",
        "  tagged_sentences = ie_preprocess(doc)\n",
        "  \n",
        "  for ts in tagged_sentences:\n",
        "    for t in find_named_entities(ts):\n",
        "      named_entities2.append(t)\n",
        "\n",
        "  return named_entities2   # return a flat list and not a list of lists"
      ],
      "execution_count": null,
      "outputs": []
    },
    {
      "cell_type": "code",
      "metadata": {
        "id": "_ajmnnOqJ8V6",
        "colab": {
          "base_uri": "https://localhost:8080/"
        },
        "outputId": "0051612a-e3d4-4f5b-9288-b22f7fc5419d"
      },
      "source": [
        "# your code goes here\n",
        "answer=find_all_named_entities(docs[0])\n",
        "print(answer)\n",
        "\n",
        "totalcount=0\n",
        "\n",
        "for ent in answer:\n",
        "  totalcount=totalcount+1\n",
        "\n",
        "print(\"Total number of Named Entities in first document are \",totalcount)\n"
      ],
      "execution_count": null,
      "outputs": [
        {
          "output_type": "stream",
          "name": "stdout",
          "text": [
            "['Cristiano Ronaldo', 'Santos Aveiro', 'ComM', 'GOIH', 'Portuguese', 'Portuguese', 'Spanish', 'Real Madrid', 'Portugal', 'Portugal', 'Ballon', 'FIFA', 'FIFA Ballon', 'Ronaldo', 'Ronaldo', 'Portuguese', 'Portuguese Football Federation', 'European Golden Shoe', 'ESPN', 'Ronaldo', 'Manchester United', 'England', 'United', 'UEFA Champions League', 'FIFA Club', 'Ballon', 'FIFA', 'Manchester United', 'Madrid', 'Spain', 'Ronaldo', 'UEFA Champions League', 'Ronaldo', 'La Liga', 'Ronaldo', 'UEFA Champions League', 'Real Madrid', 'La Liga', 'Lionel Messi', 'Ronaldo', 'Portugal', 'Portugal', 'European', 'FIFA World Cups', 'Portuguese', 'Portugal', 'Portugal', 'Portugal', 'Ronaldo', 'UEFA European', 'European', 'Michel Platini', 'Ronaldo', 'Portugal', 'France', 'Silver Boot']\n",
            "Total number of Named Entities in first document are  56\n"
          ]
        }
      ]
    },
    {
      "cell_type": "markdown",
      "metadata": {
        "id": "x2AzD9MVNIx2"
      },
      "source": [
        "\n",
        "Finding the named entities across **all** documents in `football_players.txt`, and save the result into a single flat list."
      ]
    },
    {
      "cell_type": "code",
      "metadata": {
        "id": "YULMcK1-NSR9"
      },
      "source": [
        "def NE_Doc(doc):\n",
        "\n",
        "  all_named_entities = []\n",
        "\n",
        "  for d in doc:    \n",
        "  #all_named_entities.append (find_all_named_entities(d))\n",
        "    all_named_entities= all_named_entities+ (find_all_named_entities(d))\n",
        "\n",
        "  return all_named_entities\n",
        "# your code goes here\n"
      ],
      "execution_count": null,
      "outputs": []
    },
    {
      "cell_type": "code",
      "metadata": {
        "id": "jCNIrC_SNpHQ",
        "colab": {
          "base_uri": "https://localhost:8080/"
        },
        "outputId": "fe6c40cb-b362-4066-c370-1434d296714d"
      },
      "source": [
        "# your code goes here\n",
        "answers= NE_Doc(docs)\n",
        "print(answers)\n",
        "\n",
        "counter=0\n",
        "\n",
        "for ent in answers:\n",
        "  counter=counter+1\n",
        "\n",
        "print(\"Total number of Named Entities across all documents are \",counter)\n"
      ],
      "execution_count": null,
      "outputs": [
        {
          "output_type": "stream",
          "name": "stdout",
          "text": [
            "['Cristiano Ronaldo', 'Santos Aveiro', 'ComM', 'GOIH', 'Portuguese', 'Portuguese', 'Spanish', 'Real Madrid', 'Portugal', 'Portugal', 'Ballon', 'FIFA', 'FIFA Ballon', 'Ronaldo', 'Ronaldo', 'Portuguese', 'Portuguese Football Federation', 'European Golden Shoe', 'ESPN', 'Ronaldo', 'Manchester United', 'England', 'United', 'UEFA Champions League', 'FIFA Club', 'Ballon', 'FIFA', 'Manchester United', 'Madrid', 'Spain', 'Ronaldo', 'UEFA Champions League', 'Ronaldo', 'La Liga', 'Ronaldo', 'UEFA Champions League', 'Real Madrid', 'La Liga', 'Lionel Messi', 'Ronaldo', 'Portugal', 'Portugal', 'European', 'FIFA World Cups', 'Portuguese', 'Portugal', 'Portugal', 'Portugal', 'Ronaldo', 'UEFA European', 'European', 'Michel Platini', 'Ronaldo', 'Portugal', 'France', 'Silver Boot', 'Lionel Andrés', 'Spanish', 'Spanish', 'Argentina', 'Messi', 'FIFA Ballons', 'European Golden Shoes', 'Messi', 'La Liga', 'La Liga', 'Copa América', 'Born', 'Argentina', 'Messi', 'Spain', 'Barcelona', 'Barcelona', 'Messi', 'Ballon', 'FIFA', 'Barcelona', 'Spanish', 'Messi', 'Ballon', 'FIFA', 'Messi', 'FIFA Ballons', 'European', 'Barcelona', 'Ballon', 'Cristiano Ronaldo', 'Messi', 'Champions League', 'Barcelona', 'European', 'Messi', 'FIFA World Youth Championship', 'Golden Ball', 'Golden Shoe', 'Diego Maradona', 'Messi', 'FIFA', 'Argentina', 'Golden Ball', 'Neymar', 'Silva Santos Júnior', 'Portuguese', 'Neymar', 'Neymar Jr.', 'Brazilian', 'Spanish', 'Brazil', 'Neymar', 'Santos', 'Campeonato Paulista', 'Brasil', 'Santos', 'Neymar', 'South American Footballer', 'Europe', 'Barcelona', 'Barça', 'Lionel Messi', 'Luis Suárez', 'UEFA Champions League', 'FIFA Ballon', 'Brazil', 'Neymar', 'Brazil', 'South American Youth Championship', 'FIFA Confederations Cup', 'Golden Ball', 'FIFA', 'Brazil', 'Neymar', 'Brazil', 'Santos', 'SportsPro', 'ESPN', 'Ronaldo', 'Ronaldinho', 'Brazilian', 'Portuguese', 'Ronaldinho Gaúcho', 'Brazilian', 'Spanish', 'FIFA', 'Ronaldinho', 'Brazilian', 'Ronaldo', 'Brazil', 'Ronaldo', 'Europe', 'Ronaldinho', 'Ronaldinho', 'Brazil', 'FIFA World', 'Korea', 'Japan', 'Ronaldo', 'Rivaldo', 'FIFA', 'Ronaldinho', 'Brazilian', 'European', 'Paris', 'Barcelona', 'Milan', 'Brazil', 'Flamengo', 'Atlético Mineiro', 'Mexico', 'Querétaro', 'Barcelona', 'UEFA Champions League', 'FIFA', 'Ballon', 'Ronaldinho', 'Pelé', 'FIFPro World', 'Wayne Mark Rooney', 'England', 'Rooney', 'Everton', 'Merseyside', 'Manchester United', 'Rooney', 'United', 'UEFA Champions League', 'FIFA Club', 'Football League', 'Rooney', 'Rooney', 'England', 'England', 'UEFA Euro', 'European Championship', 'Rooney', 'England Player', 'Rooney', 'England', 'David Beckham', 'Rooney', 'England', 'Rooney', 'PFA Players', 'FWA Footballer', 'Steven Gerrard', 'FIFA Ballon', 'FIFPro', 'Rooney', 'Season', 'BBC', 'Zlatan Ibrahimović', 'Swedish', 'Bosnian', 'Swedish', 'Sweden', 'Ibrahimović', 'Malmö FF', 'Ajax', 'Juventus', 'Serie', 'David Trezeguet', 'UEFA Team', 'Ibrahimović', 'Barcelona', 'Serie', 'Milan', 'Paris', 'PSG', 'Ibrahimović', 'France', 'PSG', 'PSG', 'Ibrahimović', 'Swedish', 'Sweden', 'FIFA World Cups', 'Guldbollen', 'Golden Ball', 'Swedish', 'Marco', 'Basten', 'Ibrahimović', 'Sweden', 'England', 'FIFA Puskás Award', 'Goal', 'Ibrahimović', 'Guardian', 'Lionel Messi', 'Cristiano Ronaldo', 'Swedish', 'Dagens Nyheter', 'Swedish', 'Björn Borg', 'David Robert Joseph Beckham', 'OBE', 'Preston North End', 'Real Madrid', 'Milan', 'LA Galaxy', 'Paris', 'England', 'Wayne Rooney', 'England', 'Spain', 'United States', 'France', 'Beckham', 'FIFA', 'Beckham', 'Manchester United', 'United', 'UEFA Champions League', 'Real Madrid', 'Beckham', 'Major League Soccer', 'Galaxy', 'Italy', 'Milan', 'British', 'Beckham', 'England', 'FIFA', 'European', 'Beckham', 'Victoria Beckham', 'UNICEF UK', 'David Beckham', 'UNICEF Fund', 'MLS', 'Beckham', 'Miami', 'Mesut Özil', 'German', 'Turkish', 'German', 'English', 'German', 'Özil', 'German', 'FIFA', 'Golden Ball Award', 'Özil', 'Werder Bremen', 'Real Madrid', 'FIFA', 'Germany', 'Arsenal', 'German', 'Özil', 'José Mourinho', 'Real Madrid', 'Zinedine Zidane', 'Özil', 'European', 'La Liga', 'Özil', 'FIFA', 'UEFA Euro', 'Gareth Frank Bale', 'Spanish', 'Real Madrid', 'Wales', 'Bale', 'Southampton', 'Bale', 'Tottenham Hotspur', 'Tottenham', 'Harry Redknapp', 'Bale', 'PFA Players', 'UEFA Team', 'PFA Young Player', 'FWA Footballer', 'Bale', 'Madrid', 'Cristiano Ronaldo', 'Bale', 'Real Madrid', 'UEFA Champions League', 'UEFA Super Cup', 'FIFA Club', 'UEFA Squad', 'Season', 'ESPN', 'Bale', 'Bale', 'Wales', 'Ian Rush', 'Wales', 'UEFA Euro', 'Andrés Iniesta Luján', 'Spanish', 'Spanish', 'FC Barcelona', 'Spain', 'Barcelona', 'Iniesta', 'Barcelona', 'Iniesta', 'Barcelona', 'Spanish', 'Iniesta', 'Spain', 'Spain', 'Iniesta', 'Spanish', 'Netherlands', 'Match', 'Iniesta', 'Spain', 'Italy', 'Iniesta', 'UEFA Team', 'FIFA World XI', 'Iniesta', 'UEFA Best Player', 'Europe', 'IFFHS World', 'Lionel Messi', 'FIFA Ballon']\n",
            "Total number of Named Entities across all documents are  380\n"
          ]
        }
      ]
    },
    {
      "cell_type": "markdown",
      "metadata": {
        "id": "l7-ma9lJ_WVJ"
      },
      "source": [
        "Writing functions to extract the name of the player, country of origin and date of birth as well as the following relations: team(s) of the player and position(s) of the player.\n",
        "\n",
        "Use the `re.compile()` function to create the extraction patterns.\n",
        "\n",
        "Reference: https://docs.python.org/3/howto/regex.html"
      ]
    },
    {
      "cell_type": "code",
      "metadata": {
        "id": "tbaFyiah_WVK"
      },
      "source": [
        "def name_of_the_player(doc):\n",
        "  # your code goes here\n",
        "  var1 = re.compile(r'^([A-Z][a-z]+(?: [A-Z][a-z]\\.)? [A-Z][a-z]+)')\n",
        "  name= re.findall(var1,doc)\n",
        "  return name\n",
        "\n",
        "def country_of_origin(doc):\n",
        "  # your code goes here\n",
        "  COUNTRY = re.compile(r'.*\\bprofessional footballer\\b')\n",
        "  con = re.search(COUNTRY, doc).group().split(\" \")\n",
        "  #print(con[len(con)-3])\n",
        "  country=[]\n",
        "  country.append(con[len(con)-3])\n",
        "  return country\n",
        "\n",
        "def date_of_birth(doc):\n",
        "  # your code goes here\n",
        "  var2 = re.compile(r'\\bborn\\b\\s.*(?:January|February|March|April|May|June|July|August|September|October|November|December)\\s\\d{4}')\n",
        "  vv=re.search(var2, doc).group().split(\" \")\n",
        "  #print(vv[1],vv[2],vv[3])\n",
        "  dob=\"\"\n",
        "  dob= str(vv[1])+\" \"+str(vv[2])+\" \"+str(vv[3])\n",
        "  dob = re.sub('\\W+',' ', dob )\n",
        "  return dob\n",
        "\n",
        "def team_of_the_player(doc):\n",
        "  # your code goes here\n",
        "  BORN_IN = re.compile(r'\\bplays for\\b.*?[.] |\\b plays as\\b.*?[.] |\\bambassador for\\b.*?[.] |\\bmember of \\b.*?[.] |\\bplayed for \\b.*?[.]')\n",
        "  #print(re.findall(BORN_IN, doc))\n",
        "  team= re.findall(BORN_IN, doc)\n",
        "  return team\n",
        "\n",
        "def position_of_the_player(doc):\n",
        "  # your code goes here\n",
        "  var4 = re.compile(r'\\bserves as\\b .*?[.]|\\bplays as\\b .*?[.]|\\bposition is\\b .*?[.]|\\bcareer as\\b .*?[.]')\n",
        "  #print(re.findall(var4, doc))\n",
        "  position= (re.findall(var4, doc))\n",
        "  return position"
      ],
      "execution_count": null,
      "outputs": []
    },
    {
      "cell_type": "markdown",
      "metadata": {
        "id": "K-CNrMM5_WVO"
      },
      "source": [
        "Execute the cell below to verify the `date_of_birth` function for the third player. Expected output `5 February 1992`\n"
      ]
    },
    {
      "cell_type": "code",
      "metadata": {
        "id": "jpeKE1u9_WVP",
        "colab": {
          "base_uri": "https://localhost:8080/"
        },
        "outputId": "dfcc797b-568e-4056-896d-1f75ece5c8cb"
      },
      "source": [
        "print(name_of_the_player(docs[0]))\n",
        "print(country_of_origin(docs[0]))\n",
        "print(date_of_birth(docs[0]))\n",
        "print(team_of_the_player(docs[0]))\n",
        "print(position_of_the_player(docs[0]))\n",
        "\n",
        "print(date_of_birth(docs[2]))"
      ],
      "execution_count": null,
      "outputs": [
        {
          "output_type": "stream",
          "name": "stdout",
          "text": [
            "['Cristiano Ronaldo']\n",
            "['Portuguese']\n",
            "5 February 1985 \n",
            "['plays for Spanish club Real Madrid and the Portugal national team. ']\n",
            "['serves as captain for Portugal.']\n",
            "5 February 1992\n"
          ]
        }
      ]
    },
    {
      "cell_type": "markdown",
      "metadata": {
        "id": "i3VtWxBr_WVZ"
      },
      "source": [
        "\n",
        "Identify one other relation (besides team and player) and write a function to extract it."
      ]
    },
    {
      "cell_type": "code",
      "metadata": {
        "id": "TR0GZrUB_WVa",
        "colab": {
          "base_uri": "https://localhost:8080/"
        },
        "outputId": "2a7a0280-7635-4b53-979d-d6ca9277d717"
      },
      "source": [
        "# your code goes here\n",
        "#Here I have taken Player and his Key Achievements (Won, runner-up etc)\n",
        "\n",
        "def achievement(doc):\n",
        "  # your code goes here\n",
        "    ACHIEVEMENT = re.compile(r'\\bwon\\b.*?[.] |\\b runner-up\\b.*?[.] |\\bnominated for\\b.*?[.]')\n",
        "    ach=(re.findall(ACHIEVEMENT, doc))\n",
        "    return ach\n",
        "\n",
        "print(achievement(docs[2]))"
      ],
      "execution_count": null,
      "outputs": [
        {
          "output_type": "stream",
          "name": "stdout",
          "text": [
            "['won the continental treble of La Liga, the Copa del Rey, and the UEFA Champions League in the 2014–15 season, followed the next year by the domestic double. ', 'won the Golden Ball as player of the tournament. ']\n"
          ]
        }
      ]
    }
  ]
}